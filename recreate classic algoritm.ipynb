{
  "nbformat": 4,
  "nbformat_minor": 0,
  "metadata": {
    "colab": {
      "name": "cirq_exp1.ipynb",
      "provenance": [],
      "authorship_tag": "ABX9TyPkM2AAL1VW45lGOITGyvzW",
      "include_colab_link": true
    },
    "kernelspec": {
      "name": "python3",
      "display_name": "Python 3"
    }
  },
  "cells": [
    {
      "cell_type": "markdown",
      "metadata": {
        "id": "view-in-github",
        "colab_type": "text"
      },
      "source": [
        "<a href=\"https://colab.research.google.com/github/MaldoAlberto/Cirq-experiments/blob/master/recreate%20classic%20algoritm.ipynb\" target=\"_parent\"><img src=\"https://colab.research.google.com/assets/colab-badge.svg\" alt=\"Open In Colab\"/></a>"
      ]
    },
    {
      "cell_type": "markdown",
      "metadata": {
        "id": "xUMvkImhxBZe",
        "colab_type": "text"
      },
      "source": [
        "\n",
        "First example on CIRQ about generate a quantum  circuit that create the erosion and dilation on a binary image with a structural element of 3 pixels (static or classical mode\n",
        ").\n",
        "---\n",
        "\n"
      ]
    },
    {
      "cell_type": "code",
      "metadata": {
        "id": "U6nfRi0gPPg2",
        "colab_type": "code",
        "outputId": "0dff81ce-9190-419b-908b-b053d5535719",
        "colab": {
          "base_uri": "https://localhost:8080/",
          "height": 1000
        }
      },
      "source": [
        "!pip install cirq-dev"
      ],
      "execution_count": 0,
      "outputs": [
        {
          "output_type": "stream",
          "text": [
            "Collecting cirq-dev\n",
            "\u001b[?25l  Downloading https://files.pythonhosted.org/packages/19/0e/46168bdadf7773912cd71d8cf137720f66f3069fff1f8023331e8214b297/cirq_dev-0.6.0.dev20191029234524-py3-none-any.whl (1.2MB)\n",
            "\u001b[K     |████████████████████████████████| 1.2MB 8.9MB/s \n",
            "\u001b[?25hRequirement already satisfied: google-api-python-client~=1.6 in /usr/local/lib/python3.6/dist-packages (from cirq-dev) (1.7.11)\n",
            "Collecting networkx==2.3\n",
            "\u001b[?25l  Downloading https://files.pythonhosted.org/packages/85/08/f20aef11d4c343b557e5de6b9548761811eb16e438cee3d32b1c66c8566b/networkx-2.3.zip (1.7MB)\n",
            "\u001b[K     |████████████████████████████████| 1.8MB 51.6MB/s \n",
            "\u001b[?25hRequirement already satisfied: sortedcontainers~=2.0 in /usr/local/lib/python3.6/dist-packages (from cirq-dev) (2.1.0)\n",
            "Requirement already satisfied: typing-extensions in /usr/local/lib/python3.6/dist-packages (from cirq-dev) (3.6.6)\n",
            "Requirement already satisfied: numpy~=1.16 in /usr/local/lib/python3.6/dist-packages (from cirq-dev) (1.17.5)\n",
            "Requirement already satisfied: requests~=2.18 in /usr/local/lib/python3.6/dist-packages (from cirq-dev) (2.21.0)\n",
            "Collecting protobuf==3.8.0\n",
            "\u001b[?25l  Downloading https://files.pythonhosted.org/packages/d2/fb/29de8d08967f0cce1bb10b39846d836b0f3bf6776ddc36aed7c73498ca7e/protobuf-3.8.0-cp36-cp36m-manylinux1_x86_64.whl (1.2MB)\n",
            "\u001b[K     |████████████████████████████████| 1.2MB 42.0MB/s \n",
            "\u001b[?25hRequirement already satisfied: pandas in /usr/local/lib/python3.6/dist-packages (from cirq-dev) (0.25.3)\n",
            "Requirement already satisfied: scipy in /usr/local/lib/python3.6/dist-packages (from cirq-dev) (1.4.1)\n",
            "Requirement already satisfied: dataclasses in /usr/local/lib/python3.6/dist-packages (from cirq-dev) (0.7)\n",
            "Requirement already satisfied: sympy in /usr/local/lib/python3.6/dist-packages (from cirq-dev) (1.1.1)\n",
            "Requirement already satisfied: matplotlib~=3.0 in /usr/local/lib/python3.6/dist-packages (from cirq-dev) (3.1.2)\n",
            "Requirement already satisfied: google-auth-httplib2>=0.0.3 in /usr/local/lib/python3.6/dist-packages (from google-api-python-client~=1.6->cirq-dev) (0.0.3)\n",
            "Requirement already satisfied: httplib2<1dev,>=0.9.2 in /usr/local/lib/python3.6/dist-packages (from google-api-python-client~=1.6->cirq-dev) (0.11.3)\n",
            "Requirement already satisfied: google-auth>=1.4.1 in /usr/local/lib/python3.6/dist-packages (from google-api-python-client~=1.6->cirq-dev) (1.4.2)\n",
            "Requirement already satisfied: uritemplate<4dev,>=3.0.0 in /usr/local/lib/python3.6/dist-packages (from google-api-python-client~=1.6->cirq-dev) (3.0.1)\n",
            "Requirement already satisfied: six<2dev,>=1.6.1 in /usr/local/lib/python3.6/dist-packages (from google-api-python-client~=1.6->cirq-dev) (1.12.0)\n",
            "Requirement already satisfied: decorator>=4.3.0 in /usr/local/lib/python3.6/dist-packages (from networkx==2.3->cirq-dev) (4.4.1)\n",
            "Requirement already satisfied: idna<2.9,>=2.5 in /usr/local/lib/python3.6/dist-packages (from requests~=2.18->cirq-dev) (2.8)\n",
            "Requirement already satisfied: chardet<3.1.0,>=3.0.2 in /usr/local/lib/python3.6/dist-packages (from requests~=2.18->cirq-dev) (3.0.4)\n",
            "Requirement already satisfied: urllib3<1.25,>=1.21.1 in /usr/local/lib/python3.6/dist-packages (from requests~=2.18->cirq-dev) (1.24.3)\n",
            "Requirement already satisfied: certifi>=2017.4.17 in /usr/local/lib/python3.6/dist-packages (from requests~=2.18->cirq-dev) (2019.11.28)\n",
            "Requirement already satisfied: setuptools in /usr/local/lib/python3.6/dist-packages (from protobuf==3.8.0->cirq-dev) (42.0.2)\n",
            "Requirement already satisfied: pytz>=2017.2 in /usr/local/lib/python3.6/dist-packages (from pandas->cirq-dev) (2018.9)\n",
            "Requirement already satisfied: python-dateutil>=2.6.1 in /usr/local/lib/python3.6/dist-packages (from pandas->cirq-dev) (2.6.1)\n",
            "Requirement already satisfied: mpmath>=0.19 in /usr/local/lib/python3.6/dist-packages (from sympy->cirq-dev) (1.1.0)\n",
            "Requirement already satisfied: kiwisolver>=1.0.1 in /usr/local/lib/python3.6/dist-packages (from matplotlib~=3.0->cirq-dev) (1.1.0)\n",
            "Requirement already satisfied: cycler>=0.10 in /usr/local/lib/python3.6/dist-packages (from matplotlib~=3.0->cirq-dev) (0.10.0)\n",
            "Requirement already satisfied: pyparsing!=2.0.4,!=2.1.2,!=2.1.6,>=2.0.1 in /usr/local/lib/python3.6/dist-packages (from matplotlib~=3.0->cirq-dev) (2.4.6)\n",
            "Requirement already satisfied: rsa>=3.1.4 in /usr/local/lib/python3.6/dist-packages (from google-auth>=1.4.1->google-api-python-client~=1.6->cirq-dev) (4.0)\n",
            "Requirement already satisfied: pyasn1-modules>=0.2.1 in /usr/local/lib/python3.6/dist-packages (from google-auth>=1.4.1->google-api-python-client~=1.6->cirq-dev) (0.2.7)\n",
            "Requirement already satisfied: cachetools>=2.0.0 in /usr/local/lib/python3.6/dist-packages (from google-auth>=1.4.1->google-api-python-client~=1.6->cirq-dev) (4.0.0)\n",
            "Requirement already satisfied: pyasn1>=0.1.3 in /usr/local/lib/python3.6/dist-packages (from rsa>=3.1.4->google-auth>=1.4.1->google-api-python-client~=1.6->cirq-dev) (0.4.8)\n",
            "Building wheels for collected packages: networkx\n",
            "  Building wheel for networkx (setup.py) ... \u001b[?25l\u001b[?25hdone\n",
            "  Created wheel for networkx: filename=networkx-2.3-py2.py3-none-any.whl size=1556408 sha256=3c91fb9be673a5c9f317bd63e004a005c10abed2a2422f97d675d3138a72368e\n",
            "  Stored in directory: /root/.cache/pip/wheels/de/63/64/3699be2a9d0ccdb37c7f16329acf3863fd76eda58c39c737af\n",
            "Successfully built networkx\n",
            "\u001b[31mERROR: albumentations 0.1.12 has requirement imgaug<0.2.7,>=0.2.5, but you'll have imgaug 0.2.9 which is incompatible.\u001b[0m\n",
            "Installing collected packages: networkx, protobuf, cirq-dev\n",
            "  Found existing installation: networkx 2.4\n",
            "    Uninstalling networkx-2.4:\n",
            "      Successfully uninstalled networkx-2.4\n",
            "  Found existing installation: protobuf 3.10.0\n",
            "    Uninstalling protobuf-3.10.0:\n",
            "      Successfully uninstalled protobuf-3.10.0\n",
            "Successfully installed cirq-dev-0.6.0.dev20191029234524 networkx-2.3 protobuf-3.8.0\n"
          ],
          "name": "stdout"
        },
        {
          "output_type": "display_data",
          "data": {
            "application/vnd.colab-display-data+json": {
              "pip_warning": {
                "packages": [
                  "google"
                ]
              }
            }
          },
          "metadata": {
            "tags": []
          }
        }
      ]
    },
    {
      "cell_type": "code",
      "metadata": {
        "id": "StO-FOc-Pawb",
        "colab_type": "code",
        "colab": {}
      },
      "source": [
        "import cirq\n",
        "import numpy as np\n",
        "from cirq.devices import GridQubit"
      ],
      "execution_count": 0,
      "outputs": []
    },
    {
      "cell_type": "markdown",
      "metadata": {
        "id": "jy9ONG6dxjLF",
        "colab_type": "text"
      },
      "source": [
        "Generare a matriz that represent the binary image (6x6) and depends or the structural element (1x3) we adder 2 more  columns pixel for its. So is (6x8) \n"
      ]
    },
    {
      "cell_type": "code",
      "metadata": {
        "id": "sjUnyvFKPojl",
        "colab_type": "code",
        "colab": {}
      },
      "source": [
        "imagen_entrada = np.zeros((6,8),np.uint8)\n",
        "imagen_entrada[1][2] = 1\n",
        "imagen_entrada[1][3] = 1\n",
        "imagen_entrada[2][2] = 1\n",
        "imagen_entrada[2][3] = 1\n",
        "imagen_entrada[2][5] = 1\n",
        "imagen_entrada[3][2] = 1\n",
        "imagen_entrada[3][5] = 1\n",
        "imagen_entrada[4][5] = 1\n"
      ],
      "execution_count": 0,
      "outputs": []
    },
    {
      "cell_type": "code",
      "metadata": {
        "id": "rwX92ADFPp-m",
        "colab_type": "code",
        "outputId": "88787851-0dc6-46a2-ae71-1b57346cc440",
        "colab": {
          "base_uri": "https://localhost:8080/",
          "height": 121
        }
      },
      "source": [
        "print(imagen_entrada, len(imagen_entrada),len(imagen_entrada[0]))\n",
        "\n",
        "\n",
        "#salidas erosion y dilatacion\n",
        "\n",
        "erosion= []\n",
        "dilatacion = []"
      ],
      "execution_count": 0,
      "outputs": [
        {
          "output_type": "stream",
          "text": [
            "[[0 0 0 0 0 0 0 0]\n",
            " [0 0 1 1 0 0 0 0]\n",
            " [0 0 1 1 0 1 0 0]\n",
            " [0 0 1 0 0 1 0 0]\n",
            " [0 0 0 0 0 1 0 0]\n",
            " [0 0 0 0 0 0 0 0]] 6 8\n"
          ],
          "name": "stdout"
        }
      ]
    },
    {
      "cell_type": "markdown",
      "metadata": {
        "id": "aNehYsytyD0Q",
        "colab_type": "text"
      },
      "source": [
        "The gate desing to create a AND-OR, NAND-NOR with three qubits "
      ]
    },
    {
      "cell_type": "code",
      "metadata": {
        "id": "KzXE3tIhPtFS",
        "colab_type": "code",
        "colab": {}
      },
      "source": [
        "#compuerta diseñada U\n",
        "def compuerta(circuit,device,a,b,c):\n",
        "  circuit.append(cirq.X(device.qubits[a]))\n",
        "  circuit.append(cirq.TOFFOLI(device.qubits[a],device.qubits[b],device.qubits[c]))\n",
        "  circuit.append(cirq.CNOT(device.qubits[c],device.qubits[b]))\n",
        "  circuit.append(cirq.X(device.qubits[a]))\n",
        "  circuit.append(cirq.CNOT(device.qubits[a],device.qubits[c]))"
      ],
      "execution_count": 0,
      "outputs": []
    },
    {
      "cell_type": "markdown",
      "metadata": {
        "id": "3_-bDkARyTYW",
        "colab_type": "text"
      },
      "source": [
        "Using an example of the cirq repository of the  simulator grid."
      ]
    },
    {
      "cell_type": "code",
      "metadata": {
        "id": "p5kAsGPIPvpe",
        "colab_type": "code",
        "colab": {}
      },
      "source": [
        "class Xmon10Device(cirq.Device):\n",
        "\n",
        "  def __init__(self):\n",
        "      self.qubits = [GridQubit(i, 0) for i in range(31)]\n",
        "\n",
        "  def duration_of(self, operation):\n",
        "      # Wouldn't it be nice if everything took 10ns?\n",
        "      return cirq.Duration(nanos=10)\n",
        "\n",
        "  def validate_operation(self, operation):\n",
        "      if not isinstance(operation, cirq.GateOperation):\n",
        "          raise ValueError('{!r} is not a supported operation'.format(operation))\n",
        "      if not isinstance(operation.gate, (cirq.CZPowGate,\n",
        "                                         cirq.XPowGate,\n",
        "                                         cirq.PhasedXPowGate,\n",
        "                                         cirq.YPowGate)):\n",
        "          raise ValueError('{!r} is not a supported gate'.format(operation.gate))\n",
        "      if len(operation.qubits) == 2:\n",
        "          p, q = operation.qubits\n",
        "          if not p.is_adjacent(q):\n",
        "            raise ValueError('Non-local interaction: {}'.format(repr(operation)))\n",
        "\n",
        "\n",
        "  def validate_scheduled_operation(self, schedule, scheduled_operation):\n",
        "      self.validate_operation(scheduled_operation.operation)\n",
        "\n",
        "  def validate_circuit(self, circuit):\n",
        "      for moment in circuit:\n",
        "          for operation in moment.operations:\n",
        "              self.validate_operation(operation)\n",
        "\n",
        "  def validate_schedule(self, schedule):\n",
        "      for scheduled_operation in schedule.scheduled_operations:\n",
        "          self.validate_scheduled_operation(schedule, scheduled_operation)"
      ],
      "execution_count": 0,
      "outputs": []
    },
    {
      "cell_type": "markdown",
      "metadata": {
        "id": "7qvp5Ep3ye9Y",
        "colab_type": "text"
      },
      "source": [
        "We design the simulation for works between each  pixel of the image and the structural element, using 7 qubits and 1000 iteration per subpixel group."
      ]
    },
    {
      "cell_type": "code",
      "metadata": {
        "id": "UfLnfDw0P0wW",
        "colab_type": "code",
        "outputId": "43ffd2fa-31bc-496e-82ee-293907f2a24c",
        "colab": {
          "base_uri": "https://localhost:8080/",
          "height": 1000
        }
      },
      "source": [
        "for i in range(len(imagen_entrada)):\n",
        "  for j in range(len(imagen_entrada[0])-1):\n",
        "    print(i)    \n",
        "    device = Xmon10Device()\n",
        "    circuit = cirq.Circuit()\n",
        "\n",
        "#arbol 1\n",
        "    if imagen_entrada[i][j] == 1:\n",
        "      circuit.append(cirq.X(device.qubits[0]))\n",
        "    circuit.append(cirq.X(device.qubits[1]))\n",
        "    if imagen_entrada[i][j+1] == 1:\n",
        "      circuit.append(cirq.X(device.qubits[3]))\n",
        "    circuit.append(cirq.X(device.qubits[4]))\n",
        "    compuerta(circuit,device,0,1,2)\n",
        "    compuerta(circuit,device,3,4,5)\n",
        "    compuerta(circuit,device,1,4,6) \n",
        "\n",
        "#simulacion\n",
        "\n",
        "    try:\n",
        "      device.validate_circuit(circuit)\n",
        "    except ValueError as e:\n",
        "      print(e)\n",
        "    print(circuit)\n",
        "    simulator = cirq.Simulator()\n",
        "    circuit.append(cirq.measure(device.qubits[4], key='m1'))\n",
        "    circuit.append(cirq.measure(device.qubits[6], key='m3'))\n",
        "    iteraciones = 1000\n",
        "    simulator = cirq.Simulator()\n",
        "    result = simulator.run(circuit, repetitions=iteraciones)\n",
        "    print(\"Results:\")\n",
        "#print(result)\n",
        "    out = result.histogram(key=\"m3\")\n",
        "#print(out)\n",
        "    counts = cirq.plot_state_histogram(result)\n",
        "#print(\"counts =\", counts)\n",
        "    print(counts[0]/iteraciones*100, counts[1]/iteraciones*100, counts[2]/iteraciones*100, counts[3]/iteraciones*100)\n",
        "\n",
        "    count = []\n",
        "    count.append(counts[0])\n",
        "    count.append(counts[1])\n",
        "    count.append(counts[2])\n",
        "    count.append(counts[3])\n",
        "\n",
        "    if max(count) == counts[0]:\n",
        "      erosion.append(0)\n",
        "      dilatacion.append(0)\n",
        "    elif max(count) == counts[1]:\n",
        "      erosion.append(0)\n",
        "      dilatacion.append(1)\n",
        "    elif max(count) == counts[2]:\n",
        "      erosion.append(1)\n",
        "      dilatacion.append(0)\n",
        "    elif max(count) == counts[3]:\n",
        "      erosion.append(1)\n",
        "      dilatacion.append(1)\n",
        "\n",
        "    print(erosion)\n",
        "    print(dilatacion)\n"
      ],
      "execution_count": 0,
      "outputs": [
        {
          "output_type": "stream",
          "text": [
            "0\n",
            "cirq.TOFFOLI is not a supported gate\n",
            "                       ┌──┐\n",
            "(0, 0): ───X───@───X────@─────────────────\n",
            "               │        │\n",
            "(1, 0): ───X───@───X────┼X────@───X───@───\n",
            "               │   │    │     │       │\n",
            "(2, 0): ───────X───@────X─────┼───────┼───\n",
            "                              │       │\n",
            "(3, 0): ───X───@───X────@─────┼───────┼───\n",
            "               │        │     │       │\n",
            "(4, 0): ───X───@───X────┼─────@───X───┼───\n",
            "               │   │    │     │   │   │\n",
            "(5, 0): ───────X───@────X─────┼───┼───┼───\n",
            "                              │   │   │\n",
            "(6, 0): ──────────────────────X───@───X───\n",
            "                       └──┘\n",
            "Results:\n"
          ],
          "name": "stdout"
        },
        {
          "output_type": "display_data",
          "data": {
            "image/png": "[encoded data removed]",
            "text/plain": [
              "<Figure size 432x288 with 1 Axes>"
            ]
          },
          "metadata": {
            "tags": []
          }
        },
        {
          "output_type": "stream",
          "text": [
            "100.0 0.0 0.0 0.0\n",
            "[0]\n",
            "[0]\n",
            "0\n",
            "cirq.TOFFOLI is not a supported gate\n",
            "                       ┌──┐\n",
            "(0, 0): ───X───@───X────@─────────────────\n",
            "               │        │\n",
            "(1, 0): ───X───@───X────┼X────@───X───@───\n",
            "               │   │    │     │       │\n",
            "(2, 0): ───────X───@────X─────┼───────┼───\n",
            "                              │       │\n",
            "(3, 0): ───X───@───X────@─────┼───────┼───\n",
            "               │        │     │       │\n",
            "(4, 0): ───X───@───X────┼─────@───X───┼───\n",
            "               │   │    │     │   │   │\n",
            "(5, 0): ───────X───@────X─────┼───┼───┼───\n",
            "                              │   │   │\n",
            "(6, 0): ──────────────────────X───@───X───\n",
            "                       └──┘\n",
            "Results:\n"
          ],
          "name": "stdout"
        },
        {
          "output_type": "display_data",
          "data": {
            "image/png": "[encoded data removed]",
            "text/plain": [
              "<Figure size 432x288 with 1 Axes>"
            ]
          },
          "metadata": {
            "tags": []
          }
        },
        {
          "output_type": "stream",
          "text": [
            "100.0 0.0 0.0 0.0\n",
            "[0, 0]\n",
            "[0, 0]\n",
            "0\n",
            "cirq.TOFFOLI is not a supported gate\n",
            "                       ┌──┐\n",
            "(0, 0): ───X───@───X────@─────────────────\n",
            "               │        │\n",
            "(1, 0): ───X───@───X────┼X────@───X───@───\n",
            "               │   │    │     │       │\n",
            "(2, 0): ───────X───@────X─────┼───────┼───\n",
            "                              │       │\n",
            "(3, 0): ───X───@───X────@─────┼───────┼───\n",
            "               │        │     │       │\n",
            "(4, 0): ───X───@───X────┼─────@───X───┼───\n",
            "               │   │    │     │   │   │\n",
            "(5, 0): ───────X───@────X─────┼───┼───┼───\n",
            "                              │   │   │\n",
            "(6, 0): ──────────────────────X───@───X───\n",
            "                       └──┘\n",
            "Results:\n"
          ],
          "name": "stdout"
        },
        {
          "output_type": "display_data",
          "data": {
            "image/png": "[encoded data removed]",
            "text/plain": [
              "<Figure size 432x288 with 1 Axes>"
            ]
          },
          "metadata": {
            "tags": []
          }
        },
        {
          "output_type": "stream",
          "text": [
            "100.0 0.0 0.0 0.0\n",
            "[0, 0, 0]\n",
            "[0, 0, 0]\n",
            "0\n",
            "cirq.TOFFOLI is not a supported gate\n",
            "                       ┌──┐\n",
            "(0, 0): ───X───@───X────@─────────────────\n",
            "               │        │\n",
            "(1, 0): ───X───@───X────┼X────@───X───@───\n",
            "               │   │    │     │       │\n",
            "(2, 0): ───────X───@────X─────┼───────┼───\n",
            "                              │       │\n",
            "(3, 0): ───X───@───X────@─────┼───────┼───\n",
            "               │        │     │       │\n",
            "(4, 0): ───X───@───X────┼─────@───X───┼───\n",
            "               │   │    │     │   │   │\n",
            "(5, 0): ───────X───@────X─────┼───┼───┼───\n",
            "                              │   │   │\n",
            "(6, 0): ──────────────────────X───@───X───\n",
            "                       └──┘\n",
            "Results:\n"
          ],
          "name": "stdout"
        },
        {
          "output_type": "display_data",
          "data": {
            "image/png": "[encoded data removed]",
            "text/plain": [
              "<Figure size 432x288 with 1 Axes>"
            ]
          },
          "metadata": {
            "tags": []
          }
        },
        {
          "output_type": "stream",
          "text": [
            "100.0 0.0 0.0 0.0\n",
            "[0, 0, 0, 0]\n",
            "[0, 0, 0, 0]\n",
            "0\n",
            "cirq.TOFFOLI is not a supported gate\n",
            "                       ┌──┐\n",
            "(0, 0): ───X───@───X────@─────────────────\n",
            "               │        │\n",
            "(1, 0): ───X───@───X────┼X────@───X───@───\n",
            "               │   │    │     │       │\n",
            "(2, 0): ───────X───@────X─────┼───────┼───\n",
            "                              │       │\n",
            "(3, 0): ───X───@───X────@─────┼───────┼───\n",
            "               │        │     │       │\n",
            "(4, 0): ───X───@───X────┼─────@───X───┼───\n",
            "               │   │    │     │   │   │\n",
            "(5, 0): ───────X───@────X─────┼───┼───┼───\n",
            "                              │   │   │\n",
            "(6, 0): ──────────────────────X───@───X───\n",
            "                       └──┘\n",
            "Results:\n"
          ],
          "name": "stdout"
        },
        {
          "output_type": "display_data",
          "data": {
            "image/png": "[encoded data removed]",
            "text/plain": [
              "<Figure size 432x288 with 1 Axes>"
            ]
          },
          "metadata": {
            "tags": []
          }
        },
        {
          "output_type": "stream",
          "text": [
            "100.0 0.0 0.0 0.0\n",
            "[0, 0, 0, 0, 0]\n",
            "[0, 0, 0, 0, 0]\n",
            "0\n",
            "cirq.TOFFOLI is not a supported gate\n",
            "                       ┌──┐\n",
            "(0, 0): ───X───@───X────@─────────────────\n",
            "               │        │\n",
            "(1, 0): ───X───@───X────┼X────@───X───@───\n",
            "               │   │    │     │       │\n",
            "(2, 0): ───────X───@────X─────┼───────┼───\n",
            "                              │       │\n",
            "(3, 0): ───X───@───X────@─────┼───────┼───\n",
            "               │        │     │       │\n",
            "(4, 0): ───X───@───X────┼─────@───X───┼───\n",
            "               │   │    │     │   │   │\n",
            "(5, 0): ───────X───@────X─────┼───┼───┼───\n",
            "                              │   │   │\n",
            "(6, 0): ──────────────────────X───@───X───\n",
            "                       └──┘\n",
            "Results:\n"
          ],
          "name": "stdout"
        },
        {
          "output_type": "display_data",
          "data": {
            "image/png": "[encoded data removed]",
            "text/plain": [
              "<Figure size 432x288 with 1 Axes>"
            ]
          },
          "metadata": {
            "tags": []
          }
        },
        {
          "output_type": "stream",
          "text": [
            "100.0 0.0 0.0 0.0\n",
            "[0, 0, 0, 0, 0, 0]\n",
            "[0, 0, 0, 0, 0, 0]\n",
            "0\n",
            "cirq.TOFFOLI is not a supported gate\n",
            "                       ┌──┐\n",
            "(0, 0): ───X───@───X────@─────────────────\n",
            "               │        │\n",
            "(1, 0): ───X───@───X────┼X────@───X───@───\n",
            "               │   │    │     │       │\n",
            "(2, 0): ───────X───@────X─────┼───────┼───\n",
            "                              │       │\n",
            "(3, 0): ───X───@───X────@─────┼───────┼───\n",
            "               │        │     │       │\n",
            "(4, 0): ───X───@───X────┼─────@───X───┼───\n",
            "               │   │    │     │   │   │\n",
            "(5, 0): ───────X───@────X─────┼───┼───┼───\n",
            "                              │   │   │\n",
            "(6, 0): ──────────────────────X───@───X───\n",
            "                       └──┘\n",
            "Results:\n"
          ],
          "name": "stdout"
        },
        {
          "output_type": "display_data",
          "data": {
            "image/png": "[encoded data removed]",
            "text/plain": [
              "<Figure size 432x288 with 1 Axes>"
            ]
          },
          "metadata": {
            "tags": []
          }
        },
        {
          "output_type": "stream",
          "text": [
            "100.0 0.0 0.0 0.0\n",
            "[0, 0, 0, 0, 0, 0, 0]\n",
            "[0, 0, 0, 0, 0, 0, 0]\n",
            "1\n",
            "cirq.TOFFOLI is not a supported gate\n",
            "                       ┌──┐\n",
            "(0, 0): ───X───@───X────@─────────────────\n",
            "               │        │\n",
            "(1, 0): ───X───@───X────┼X────@───X───@───\n",
            "               │   │    │     │       │\n",
            "(2, 0): ───────X───@────X─────┼───────┼───\n",
            "                              │       │\n",
            "(3, 0): ───X───@───X────@─────┼───────┼───\n",
            "               │        │     │       │\n",
            "(4, 0): ───X───@───X────┼─────@───X───┼───\n",
            "               │   │    │     │   │   │\n",
            "(5, 0): ───────X───@────X─────┼───┼───┼───\n",
            "                              │   │   │\n",
            "(6, 0): ──────────────────────X───@───X───\n",
            "                       └──┘\n",
            "Results:\n"
          ],
          "name": "stdout"
        },
        {
          "output_type": "display_data",
          "data": {
            "image/png": "[encoded data removed]",
            "text/plain": [
              "<Figure size 432x288 with 1 Axes>"
            ]
          },
          "metadata": {
            "tags": []
          }
        },
        {
          "output_type": "stream",
          "text": [
            "100.0 0.0 0.0 0.0\n",
            "[0, 0, 0, 0, 0, 0, 0, 0]\n",
            "[0, 0, 0, 0, 0, 0, 0, 0]\n",
            "1\n",
            "cirq.TOFFOLI is not a supported gate\n",
            "                       ┌──┐   ┌──┐\n",
            "(0, 0): ───X───@───X────@────────────────────\n",
            "               │        │\n",
            "(1, 0): ───X───@───X────┼X──────@────X───@───\n",
            "               │   │    │       │        │\n",
            "(2, 0): ───────X───@────X───────┼────────┼───\n",
            "                                │        │\n",
            "(3, 0): ───X───X───@────X──────@┼────────┼───\n",
            "                   │           ││        │\n",
            "(4, 0): ───X───────@────X──────┼@────X───┼───\n",
            "                   │    │      ││    │   │\n",
            "(5, 0): ───────────X────@──────X┼────┼───┼───\n",
            "                                │    │   │\n",
            "(6, 0): ────────────────────────X────@───X───\n",
            "                       └──┘   └──┘\n",
            "Results:\n"
          ],
          "name": "stdout"
        },
        {
          "output_type": "display_data",
          "data": {
            "image/png": "[encoded data removed]",
            "text/plain": [
              "<Figure size 432x288 with 1 Axes>"
            ]
          },
          "metadata": {
            "tags": []
          }
        },
        {
          "output_type": "stream",
          "text": [
            "0.0 100.0 0.0 0.0\n",
            "[0, 0, 0, 0, 0, 0, 0, 0, 0]\n",
            "[0, 0, 0, 0, 0, 0, 0, 0, 1]\n",
            "1\n",
            "cirq.TOFFOLI is not a supported gate\n",
            "                           ┌──┐\n",
            "(0, 0): ───X───X───@───X────@─────────────────\n",
            "                   │        │\n",
            "(1, 0): ───X───────@───X────┼X────@───X───@───\n",
            "                   │   │    │     │       │\n",
            "(2, 0): ───────────X───@────X─────┼───────┼───\n",
            "                                  │       │\n",
            "(3, 0): ───X───X───@───X────@─────┼───────┼───\n",
            "                   │        │     │       │\n",
            "(4, 0): ───X───────@───X────┼─────@───X───┼───\n",
            "                   │   │    │     │   │   │\n",
            "(5, 0): ───────────X───@────X─────┼───┼───┼───\n",
            "                                  │   │   │\n",
            "(6, 0): ──────────────────────────X───@───X───\n",
            "                           └──┘\n",
            "Results:\n"
          ],
          "name": "stdout"
        },
        {
          "output_type": "display_data",
          "data": {
            "image/png": "[encoded data removed]",
            "text/plain": [
              "<Figure size 432x288 with 1 Axes>"
            ]
          },
          "metadata": {
            "tags": []
          }
        },
        {
          "output_type": "stream",
          "text": [
            "0.0 0.0 0.0 100.0\n",
            "[0, 0, 0, 0, 0, 0, 0, 0, 0, 1]\n",
            "[0, 0, 0, 0, 0, 0, 0, 0, 1, 1]\n",
            "1\n",
            "cirq.TOFFOLI is not a supported gate\n",
            "                           ┌──┐\n",
            "(0, 0): ───X───X───@───X────@─────────────────\n",
            "                   │        │\n",
            "(1, 0): ───X───────@───X────┼X────@───X───@───\n",
            "                   │   │    │     │       │\n",
            "(2, 0): ───────────X───@────X─────┼───────┼───\n",
            "                                  │       │\n",
            "(3, 0): ───X───@───X───@──────────┼───────┼───\n",
            "               │       │          │       │\n",
            "(4, 0): ───X───@───X───┼──────────@───X───┼───\n",
            "               │   │   │          │   │   │\n",
            "(5, 0): ───────X───@───X──────────┼───┼───┼───\n",
            "                                  │   │   │\n",
            "(6, 0): ──────────────────────────X───@───X───\n",
            "                           └──┘\n",
            "Results:\n"
          ],
          "name": "stdout"
        },
        {
          "output_type": "display_data",
          "data": {
            "image/png": "[encoded data removed]",
            "text/plain": [
              "<Figure size 432x288 with 1 Axes>"
            ]
          },
          "metadata": {
            "tags": []
          }
        },
        {
          "output_type": "stream",
          "text": [
            "0.0 100.0 0.0 0.0\n",
            "[0, 0, 0, 0, 0, 0, 0, 0, 0, 1, 0]\n",
            "[0, 0, 0, 0, 0, 0, 0, 0, 1, 1, 1]\n",
            "1\n",
            "cirq.TOFFOLI is not a supported gate\n",
            "                       ┌──┐\n",
            "(0, 0): ───X───@───X────@─────────────────\n",
            "               │        │\n",
            "(1, 0): ───X───@───X────┼X────@───X───@───\n",
            "               │   │    │     │       │\n",
            "(2, 0): ───────X───@────X─────┼───────┼───\n",
            "                              │       │\n",
            "(3, 0): ───X───@───X────@─────┼───────┼───\n",
            "               │        │     │       │\n",
            "(4, 0): ───X───@───X────┼─────@───X───┼───\n",
            "               │   │    │     │   │   │\n",
            "(5, 0): ───────X───@────X─────┼───┼───┼───\n",
            "                              │   │   │\n",
            "(6, 0): ──────────────────────X───@───X───\n",
            "                       └──┘\n",
            "Results:\n"
          ],
          "name": "stdout"
        },
        {
          "output_type": "display_data",
          "data": {
            "image/png": "[encoded data removed]",
            "text/plain": [
              "<Figure size 432x288 with 1 Axes>"
            ]
          },
          "metadata": {
            "tags": []
          }
        },
        {
          "output_type": "stream",
          "text": [
            "100.0 0.0 0.0 0.0\n",
            "[0, 0, 0, 0, 0, 0, 0, 0, 0, 1, 0, 0]\n",
            "[0, 0, 0, 0, 0, 0, 0, 0, 1, 1, 1, 0]\n",
            "1\n",
            "cirq.TOFFOLI is not a supported gate\n",
            "                       ┌──┐\n",
            "(0, 0): ───X───@───X────@─────────────────\n",
            "               │        │\n",
            "(1, 0): ───X───@───X────┼X────@───X───@───\n",
            "               │   │    │     │       │\n",
            "(2, 0): ───────X───@────X─────┼───────┼───\n",
            "                              │       │\n",
            "(3, 0): ───X───@───X────@─────┼───────┼───\n",
            "               │        │     │       │\n",
            "(4, 0): ───X───@───X────┼─────@───X───┼───\n",
            "               │   │    │     │   │   │\n",
            "(5, 0): ───────X───@────X─────┼───┼───┼───\n",
            "                              │   │   │\n",
            "(6, 0): ──────────────────────X───@───X───\n",
            "                       └──┘\n",
            "Results:\n"
          ],
          "name": "stdout"
        },
        {
          "output_type": "display_data",
          "data": {
            "image/png": "[encoded data removed]",
            "text/plain": [
              "<Figure size 432x288 with 1 Axes>"
            ]
          },
          "metadata": {
            "tags": []
          }
        },
        {
          "output_type": "stream",
          "text": [
            "100.0 0.0 0.0 0.0\n",
            "[0, 0, 0, 0, 0, 0, 0, 0, 0, 1, 0, 0, 0]\n",
            "[0, 0, 0, 0, 0, 0, 0, 0, 1, 1, 1, 0, 0]\n",
            "1\n",
            "cirq.TOFFOLI is not a supported gate\n",
            "                       ┌──┐\n",
            "(0, 0): ───X───@───X────@─────────────────\n",
            "               │        │\n",
            "(1, 0): ───X───@───X────┼X────@───X───@───\n",
            "               │   │    │     │       │\n",
            "(2, 0): ───────X───@────X─────┼───────┼───\n",
            "                              │       │\n",
            "(3, 0): ───X───@───X────@─────┼───────┼───\n",
            "               │        │     │       │\n",
            "(4, 0): ───X───@───X────┼─────@───X───┼───\n",
            "               │   │    │     │   │   │\n",
            "(5, 0): ───────X───@────X─────┼───┼───┼───\n",
            "                              │   │   │\n",
            "(6, 0): ──────────────────────X───@───X───\n",
            "                       └──┘\n",
            "Results:\n"
          ],
          "name": "stdout"
        },
        {
          "output_type": "display_data",
          "data": {
            "image/png": "[encoded data removed]",
            "text/plain": [
              "<Figure size 432x288 with 1 Axes>"
            ]
          },
          "metadata": {
            "tags": []
          }
        },
        {
          "output_type": "stream",
          "text": [
            "100.0 0.0 0.0 0.0\n",
            "[0, 0, 0, 0, 0, 0, 0, 0, 0, 1, 0, 0, 0, 0]\n",
            "[0, 0, 0, 0, 0, 0, 0, 0, 1, 1, 1, 0, 0, 0]\n",
            "2\n",
            "cirq.TOFFOLI is not a supported gate\n",
            "                       ┌──┐\n",
            "(0, 0): ───X───@───X────@─────────────────\n",
            "               │        │\n",
            "(1, 0): ───X───@───X────┼X────@───X───@───\n",
            "               │   │    │     │       │\n",
            "(2, 0): ───────X───@────X─────┼───────┼───\n",
            "                              │       │\n",
            "(3, 0): ───X───@───X────@─────┼───────┼───\n",
            "               │        │     │       │\n",
            "(4, 0): ───X───@───X────┼─────@───X───┼───\n",
            "               │   │    │     │   │   │\n",
            "(5, 0): ───────X───@────X─────┼───┼───┼───\n",
            "                              │   │   │\n",
            "(6, 0): ──────────────────────X───@───X───\n",
            "                       └──┘\n",
            "Results:\n"
          ],
          "name": "stdout"
        },
        {
          "output_type": "display_data",
          "data": {
            "image/png": "[encoded data removed]",
            "text/plain": [
              "<Figure size 432x288 with 1 Axes>"
            ]
          },
          "metadata": {
            "tags": []
          }
        },
        {
          "output_type": "stream",
          "text": [
            "100.0 0.0 0.0 0.0\n",
            "[0, 0, 0, 0, 0, 0, 0, 0, 0, 1, 0, 0, 0, 0, 0]\n",
            "[0, 0, 0, 0, 0, 0, 0, 0, 1, 1, 1, 0, 0, 0, 0]\n",
            "2\n",
            "cirq.TOFFOLI is not a supported gate\n",
            "                       ┌──┐   ┌──┐\n",
            "(0, 0): ───X───@───X────@────────────────────\n",
            "               │        │\n",
            "(1, 0): ───X───@───X────┼X──────@────X───@───\n",
            "               │   │    │       │        │\n",
            "(2, 0): ───────X───@────X───────┼────────┼───\n",
            "                                │        │\n",
            "(3, 0): ───X───X───@────X──────@┼────────┼───\n",
            "                   │           ││        │\n",
            "(4, 0): ───X───────@────X──────┼@────X───┼───\n",
            "                   │    │      ││    │   │\n",
            "(5, 0): ───────────X────@──────X┼────┼───┼───\n",
            "                                │    │   │\n",
            "(6, 0): ────────────────────────X────@───X───\n",
            "                       └──┘   └──┘\n",
            "Results:\n"
          ],
          "name": "stdout"
        },
        {
          "output_type": "display_data",
          "data": {
            "image/png": "[encoded data removed]",
            "text/plain": [
              "<Figure size 432x288 with 1 Axes>"
            ]
          },
          "metadata": {
            "tags": []
          }
        },
        {
          "output_type": "stream",
          "text": [
            "0.0 100.0 0.0 0.0\n",
            "[0, 0, 0, 0, 0, 0, 0, 0, 0, 1, 0, 0, 0, 0, 0, 0]\n",
            "[0, 0, 0, 0, 0, 0, 0, 0, 1, 1, 1, 0, 0, 0, 0, 1]\n",
            "2\n",
            "cirq.TOFFOLI is not a supported gate\n",
            "                           ┌──┐\n",
            "(0, 0): ───X───X───@───X────@─────────────────\n",
            "                   │        │\n",
            "(1, 0): ───X───────@───X────┼X────@───X───@───\n",
            "                   │   │    │     │       │\n",
            "(2, 0): ───────────X───@────X─────┼───────┼───\n",
            "                                  │       │\n",
            "(3, 0): ───X───X───@───X────@─────┼───────┼───\n",
            "                   │        │     │       │\n",
            "(4, 0): ───X───────@───X────┼─────@───X───┼───\n",
            "                   │   │    │     │   │   │\n",
            "(5, 0): ───────────X───@────X─────┼───┼───┼───\n",
            "                                  │   │   │\n",
            "(6, 0): ──────────────────────────X───@───X───\n",
            "                           └──┘\n",
            "Results:\n"
          ],
          "name": "stdout"
        },
        {
          "output_type": "display_data",
          "data": {
            "image/png": "[encoded data removed]",
            "text/plain": [
              "<Figure size 432x288 with 1 Axes>"
            ]
          },
          "metadata": {
            "tags": []
          }
        },
        {
          "output_type": "stream",
          "text": [
            "0.0 0.0 0.0 100.0\n",
            "[0, 0, 0, 0, 0, 0, 0, 0, 0, 1, 0, 0, 0, 0, 0, 0, 1]\n",
            "[0, 0, 0, 0, 0, 0, 0, 0, 1, 1, 1, 0, 0, 0, 0, 1, 1]\n",
            "2\n",
            "cirq.TOFFOLI is not a supported gate\n",
            "                           ┌──┐\n",
            "(0, 0): ───X───X───@───X────@─────────────────\n",
            "                   │        │\n",
            "(1, 0): ───X───────@───X────┼X────@───X───@───\n",
            "                   │   │    │     │       │\n",
            "(2, 0): ───────────X───@────X─────┼───────┼───\n",
            "                                  │       │\n",
            "(3, 0): ───X───@───X───@──────────┼───────┼───\n",
            "               │       │          │       │\n",
            "(4, 0): ───X───@───X───┼──────────@───X───┼───\n",
            "               │   │   │          │   │   │\n",
            "(5, 0): ───────X───@───X──────────┼───┼───┼───\n",
            "                                  │   │   │\n",
            "(6, 0): ──────────────────────────X───@───X───\n",
            "                           └──┘\n",
            "Results:\n"
          ],
          "name": "stdout"
        },
        {
          "output_type": "display_data",
          "data": {
            "image/png": "[encoded data removed]",
            "text/plain": [
              "<Figure size 432x288 with 1 Axes>"
            ]
          },
          "metadata": {
            "tags": []
          }
        },
        {
          "output_type": "stream",
          "text": [
            "0.0 100.0 0.0 0.0\n",
            "[0, 0, 0, 0, 0, 0, 0, 0, 0, 1, 0, 0, 0, 0, 0, 0, 1, 0]\n",
            "[0, 0, 0, 0, 0, 0, 0, 0, 1, 1, 1, 0, 0, 0, 0, 1, 1, 1]\n",
            "2\n",
            "cirq.TOFFOLI is not a supported gate\n",
            "                       ┌──┐   ┌──┐\n",
            "(0, 0): ───X───@───X────@────────────────────\n",
            "               │        │\n",
            "(1, 0): ───X───@───X────┼X──────@────X───@───\n",
            "               │   │    │       │        │\n",
            "(2, 0): ───────X───@────X───────┼────────┼───\n",
            "                                │        │\n",
            "(3, 0): ───X───X───@────X──────@┼────────┼───\n",
            "                   │           ││        │\n",
            "(4, 0): ───X───────@────X──────┼@────X───┼───\n",
            "                   │    │      ││    │   │\n",
            "(5, 0): ───────────X────@──────X┼────┼───┼───\n",
            "                                │    │   │\n",
            "(6, 0): ────────────────────────X────@───X───\n",
            "                       └──┘   └──┘\n",
            "Results:\n"
          ],
          "name": "stdout"
        },
        {
          "output_type": "display_data",
          "data": {
            "image/png": "[encoded data removed]",
            "text/plain": [
              "<Figure size 432x288 with 1 Axes>"
            ]
          },
          "metadata": {
            "tags": []
          }
        },
        {
          "output_type": "stream",
          "text": [
            "0.0 100.0 0.0 0.0\n",
            "[0, 0, 0, 0, 0, 0, 0, 0, 0, 1, 0, 0, 0, 0, 0, 0, 1, 0, 0]\n",
            "[0, 0, 0, 0, 0, 0, 0, 0, 1, 1, 1, 0, 0, 0, 0, 1, 1, 1, 1]\n",
            "2\n",
            "cirq.TOFFOLI is not a supported gate\n",
            "                           ┌──┐\n",
            "(0, 0): ───X───X───@───X────@─────────────────\n",
            "                   │        │\n",
            "(1, 0): ───X───────@───X────┼X────@───X───@───\n",
            "                   │   │    │     │       │\n",
            "(2, 0): ───────────X───@────X─────┼───────┼───\n",
            "                                  │       │\n",
            "(3, 0): ───X───@───X───@──────────┼───────┼───\n",
            "               │       │          │       │\n",
            "(4, 0): ───X───@───X───┼──────────@───X───┼───\n",
            "               │   │   │          │   │   │\n",
            "(5, 0): ───────X───@───X──────────┼───┼───┼───\n",
            "                                  │   │   │\n",
            "(6, 0): ──────────────────────────X───@───X───\n",
            "                           └──┘\n",
            "Results:\n"
          ],
          "name": "stdout"
        },
        {
          "output_type": "display_data",
          "data": {
            "image/png": "[encoded data removed]",
            "text/plain": [
              "<Figure size 432x288 with 1 Axes>"
            ]
          },
          "metadata": {
            "tags": []
          }
        },
        {
          "output_type": "stream",
          "text": [
            "0.0 100.0 0.0 0.0\n",
            "[0, 0, 0, 0, 0, 0, 0, 0, 0, 1, 0, 0, 0, 0, 0, 0, 1, 0, 0, 0]\n",
            "[0, 0, 0, 0, 0, 0, 0, 0, 1, 1, 1, 0, 0, 0, 0, 1, 1, 1, 1, 1]\n",
            "2\n",
            "cirq.TOFFOLI is not a supported gate\n",
            "                       ┌──┐\n",
            "(0, 0): ───X───@───X────@─────────────────\n",
            "               │        │\n",
            "(1, 0): ───X───@───X────┼X────@───X───@───\n",
            "               │   │    │     │       │\n",
            "(2, 0): ───────X───@────X─────┼───────┼───\n",
            "                              │       │\n",
            "(3, 0): ───X───@───X────@─────┼───────┼───\n",
            "               │        │     │       │\n",
            "(4, 0): ───X───@───X────┼─────@───X───┼───\n",
            "               │   │    │     │   │   │\n",
            "(5, 0): ───────X───@────X─────┼───┼───┼───\n",
            "                              │   │   │\n",
            "(6, 0): ──────────────────────X───@───X───\n",
            "                       └──┘\n",
            "Results:\n"
          ],
          "name": "stdout"
        },
        {
          "output_type": "display_data",
          "data": {
            "image/png": "[encoded data removed]",
            "text/plain": [
              "<Figure size 432x288 with 1 Axes>"
            ]
          },
          "metadata": {
            "tags": []
          }
        },
        {
          "output_type": "stream",
          "text": [
            "100.0 0.0 0.0 0.0\n",
            "[0, 0, 0, 0, 0, 0, 0, 0, 0, 1, 0, 0, 0, 0, 0, 0, 1, 0, 0, 0, 0]\n",
            "[0, 0, 0, 0, 0, 0, 0, 0, 1, 1, 1, 0, 0, 0, 0, 1, 1, 1, 1, 1, 0]\n",
            "3\n",
            "cirq.TOFFOLI is not a supported gate\n",
            "                       ┌──┐\n",
            "(0, 0): ───X───@───X────@─────────────────\n",
            "               │        │\n",
            "(1, 0): ───X───@───X────┼X────@───X───@───\n",
            "               │   │    │     │       │\n",
            "(2, 0): ───────X───@────X─────┼───────┼───\n",
            "                              │       │\n",
            "(3, 0): ───X───@───X────@─────┼───────┼───\n",
            "               │        │     │       │\n",
            "(4, 0): ───X───@───X────┼─────@───X───┼───\n",
            "               │   │    │     │   │   │\n",
            "(5, 0): ───────X───@────X─────┼───┼───┼───\n",
            "                              │   │   │\n",
            "(6, 0): ──────────────────────X───@───X───\n",
            "                       └──┘\n",
            "Results:\n"
          ],
          "name": "stdout"
        },
        {
          "output_type": "display_data",
          "data": {
            "image/png": "[encoded data removed]",
            "text/plain": [
              "<Figure size 432x288 with 1 Axes>"
            ]
          },
          "metadata": {
            "tags": []
          }
        },
        {
          "output_type": "stream",
          "text": [
            "100.0 0.0 0.0 0.0\n",
            "[0, 0, 0, 0, 0, 0, 0, 0, 0, 1, 0, 0, 0, 0, 0, 0, 1, 0, 0, 0, 0, 0]\n",
            "[0, 0, 0, 0, 0, 0, 0, 0, 1, 1, 1, 0, 0, 0, 0, 1, 1, 1, 1, 1, 0, 0]\n",
            "3\n",
            "cirq.TOFFOLI is not a supported gate\n",
            "                       ┌──┐   ┌──┐\n",
            "(0, 0): ───X───@───X────@────────────────────\n",
            "               │        │\n",
            "(1, 0): ───X───@───X────┼X──────@────X───@───\n",
            "               │   │    │       │        │\n",
            "(2, 0): ───────X───@────X───────┼────────┼───\n",
            "                                │        │\n",
            "(3, 0): ───X───X───@────X──────@┼────────┼───\n",
            "                   │           ││        │\n",
            "(4, 0): ───X───────@────X──────┼@────X───┼───\n",
            "                   │    │      ││    │   │\n",
            "(5, 0): ───────────X────@──────X┼────┼───┼───\n",
            "                                │    │   │\n",
            "(6, 0): ────────────────────────X────@───X───\n",
            "                       └──┘   └──┘\n",
            "Results:\n"
          ],
          "name": "stdout"
        },
        {
          "output_type": "display_data",
          "data": {
            "image/png": "[encoded data removed]",
            "text/plain": [
              "<Figure size 432x288 with 1 Axes>"
            ]
          },
          "metadata": {
            "tags": []
          }
        },
        {
          "output_type": "stream",
          "text": [
            "0.0 100.0 0.0 0.0\n",
            "[0, 0, 0, 0, 0, 0, 0, 0, 0, 1, 0, 0, 0, 0, 0, 0, 1, 0, 0, 0, 0, 0, 0]\n",
            "[0, 0, 0, 0, 0, 0, 0, 0, 1, 1, 1, 0, 0, 0, 0, 1, 1, 1, 1, 1, 0, 0, 1]\n",
            "3\n",
            "cirq.TOFFOLI is not a supported gate\n",
            "                           ┌──┐\n",
            "(0, 0): ───X───X───@───X────@─────────────────\n",
            "                   │        │\n",
            "(1, 0): ───X───────@───X────┼X────@───X───@───\n",
            "                   │   │    │     │       │\n",
            "(2, 0): ───────────X───@────X─────┼───────┼───\n",
            "                                  │       │\n",
            "(3, 0): ───X───@───X───@──────────┼───────┼───\n",
            "               │       │          │       │\n",
            "(4, 0): ───X───@───X───┼──────────@───X───┼───\n",
            "               │   │   │          │   │   │\n",
            "(5, 0): ───────X───@───X──────────┼───┼───┼───\n",
            "                                  │   │   │\n",
            "(6, 0): ──────────────────────────X───@───X───\n",
            "                           └──┘\n",
            "Results:\n"
          ],
          "name": "stdout"
        },
        {
          "output_type": "display_data",
          "data": {
            "image/png": "[encoded data removed]",
            "text/plain": [
              "<Figure size 432x288 with 1 Axes>"
            ]
          },
          "metadata": {
            "tags": []
          }
        },
        {
          "output_type": "stream",
          "text": [
            "0.0 100.0 0.0 0.0\n",
            "[0, 0, 0, 0, 0, 0, 0, 0, 0, 1, 0, 0, 0, 0, 0, 0, 1, 0, 0, 0, 0, 0, 0, 0]\n",
            "[0, 0, 0, 0, 0, 0, 0, 0, 1, 1, 1, 0, 0, 0, 0, 1, 1, 1, 1, 1, 0, 0, 1, 1]\n",
            "3\n",
            "cirq.TOFFOLI is not a supported gate\n",
            "                       ┌──┐\n",
            "(0, 0): ───X───@───X────@─────────────────\n",
            "               │        │\n",
            "(1, 0): ───X───@───X────┼X────@───X───@───\n",
            "               │   │    │     │       │\n",
            "(2, 0): ───────X───@────X─────┼───────┼───\n",
            "                              │       │\n",
            "(3, 0): ───X───@───X────@─────┼───────┼───\n",
            "               │        │     │       │\n",
            "(4, 0): ───X───@───X────┼─────@───X───┼───\n",
            "               │   │    │     │   │   │\n",
            "(5, 0): ───────X───@────X─────┼───┼───┼───\n",
            "                              │   │   │\n",
            "(6, 0): ──────────────────────X───@───X───\n",
            "                       └──┘\n",
            "Results:\n"
          ],
          "name": "stdout"
        },
        {
          "output_type": "display_data",
          "data": {
            "image/png": "[encoded data removed]",
            "text/plain": [
              "<Figure size 432x288 with 1 Axes>"
            ]
          },
          "metadata": {
            "tags": []
          }
        },
        {
          "output_type": "stream",
          "text": [
            "100.0 0.0 0.0 0.0\n",
            "[0, 0, 0, 0, 0, 0, 0, 0, 0, 1, 0, 0, 0, 0, 0, 0, 1, 0, 0, 0, 0, 0, 0, 0, 0]\n",
            "[0, 0, 0, 0, 0, 0, 0, 0, 1, 1, 1, 0, 0, 0, 0, 1, 1, 1, 1, 1, 0, 0, 1, 1, 0]\n",
            "3\n",
            "cirq.TOFFOLI is not a supported gate\n",
            "                       ┌──┐   ┌──┐\n",
            "(0, 0): ───X───@───X────@────────────────────\n",
            "               │        │\n",
            "(1, 0): ───X───@───X────┼X──────@────X───@───\n",
            "               │   │    │       │        │\n",
            "(2, 0): ───────X───@────X───────┼────────┼───\n",
            "                                │        │\n",
            "(3, 0): ───X───X───@────X──────@┼────────┼───\n",
            "                   │           ││        │\n",
            "(4, 0): ───X───────@────X──────┼@────X───┼───\n",
            "                   │    │      ││    │   │\n",
            "(5, 0): ───────────X────@──────X┼────┼───┼───\n",
            "                                │    │   │\n",
            "(6, 0): ────────────────────────X────@───X───\n",
            "                       └──┘   └──┘\n",
            "Results:\n"
          ],
          "name": "stdout"
        },
        {
          "output_type": "display_data",
          "data": {
            "image/png": "[encoded data removed]",
            "text/plain": [
              "<Figure size 432x288 with 1 Axes>"
            ]
          },
          "metadata": {
            "tags": []
          }
        },
        {
          "output_type": "stream",
          "text": [
            "0.0 100.0 0.0 0.0\n",
            "[0, 0, 0, 0, 0, 0, 0, 0, 0, 1, 0, 0, 0, 0, 0, 0, 1, 0, 0, 0, 0, 0, 0, 0, 0, 0]\n",
            "[0, 0, 0, 0, 0, 0, 0, 0, 1, 1, 1, 0, 0, 0, 0, 1, 1, 1, 1, 1, 0, 0, 1, 1, 0, 1]\n",
            "3\n",
            "cirq.TOFFOLI is not a supported gate\n",
            "                           ┌──┐\n",
            "(0, 0): ───X───X───@───X────@─────────────────\n",
            "                   │        │\n",
            "(1, 0): ───X───────@───X────┼X────@───X───@───\n",
            "                   │   │    │     │       │\n",
            "(2, 0): ───────────X───@────X─────┼───────┼───\n",
            "                                  │       │\n",
            "(3, 0): ───X───@───X───@──────────┼───────┼───\n",
            "               │       │          │       │\n",
            "(4, 0): ───X───@───X───┼──────────@───X───┼───\n",
            "               │   │   │          │   │   │\n",
            "(5, 0): ───────X───@───X──────────┼───┼───┼───\n",
            "                                  │   │   │\n",
            "(6, 0): ──────────────────────────X───@───X───\n",
            "                           └──┘\n",
            "Results:\n"
          ],
          "name": "stdout"
        },
        {
          "output_type": "display_data",
          "data": {
            "image/png": "[encoded data removed]",
            "text/plain": [
              "<Figure size 432x288 with 1 Axes>"
            ]
          },
          "metadata": {
            "tags": []
          }
        },
        {
          "output_type": "stream",
          "text": [
            "0.0 100.0 0.0 0.0\n",
            "[0, 0, 0, 0, 0, 0, 0, 0, 0, 1, 0, 0, 0, 0, 0, 0, 1, 0, 0, 0, 0, 0, 0, 0, 0, 0, 0]\n",
            "[0, 0, 0, 0, 0, 0, 0, 0, 1, 1, 1, 0, 0, 0, 0, 1, 1, 1, 1, 1, 0, 0, 1, 1, 0, 1, 1]\n",
            "3\n",
            "cirq.TOFFOLI is not a supported gate\n",
            "                       ┌──┐\n",
            "(0, 0): ───X───@───X────@─────────────────\n",
            "               │        │\n",
            "(1, 0): ───X───@───X────┼X────@───X───@───\n",
            "               │   │    │     │       │\n",
            "(2, 0): ───────X───@────X─────┼───────┼───\n",
            "                              │       │\n",
            "(3, 0): ───X───@───X────@─────┼───────┼───\n",
            "               │        │     │       │\n",
            "(4, 0): ───X───@───X────┼─────@───X───┼───\n",
            "               │   │    │     │   │   │\n",
            "(5, 0): ───────X───@────X─────┼───┼───┼───\n",
            "                              │   │   │\n",
            "(6, 0): ──────────────────────X───@───X───\n",
            "                       └──┘\n",
            "Results:\n"
          ],
          "name": "stdout"
        },
        {
          "output_type": "display_data",
          "data": {
            "image/png": "[encoded data removed]",
            "text/plain": [
              "<Figure size 432x288 with 1 Axes>"
            ]
          },
          "metadata": {
            "tags": []
          }
        },
        {
          "output_type": "stream",
          "text": [
            "100.0 0.0 0.0 0.0\n",
            "[0, 0, 0, 0, 0, 0, 0, 0, 0, 1, 0, 0, 0, 0, 0, 0, 1, 0, 0, 0, 0, 0, 0, 0, 0, 0, 0, 0]\n",
            "[0, 0, 0, 0, 0, 0, 0, 0, 1, 1, 1, 0, 0, 0, 0, 1, 1, 1, 1, 1, 0, 0, 1, 1, 0, 1, 1, 0]\n",
            "4\n",
            "cirq.TOFFOLI is not a supported gate\n",
            "                       ┌──┐\n",
            "(0, 0): ───X───@───X────@─────────────────\n",
            "               │        │\n",
            "(1, 0): ───X───@───X────┼X────@───X───@───\n",
            "               │   │    │     │       │\n",
            "(2, 0): ───────X───@────X─────┼───────┼───\n",
            "                              │       │\n",
            "(3, 0): ───X───@───X────@─────┼───────┼───\n",
            "               │        │     │       │\n",
            "(4, 0): ───X───@───X────┼─────@───X───┼───\n",
            "               │   │    │     │   │   │\n",
            "(5, 0): ───────X───@────X─────┼───┼───┼───\n",
            "                              │   │   │\n",
            "(6, 0): ──────────────────────X───@───X───\n",
            "                       └──┘\n",
            "Results:\n"
          ],
          "name": "stdout"
        },
        {
          "output_type": "display_data",
          "data": {
            "image/png": "[encoded data removed]",
            "text/plain": [
              "<Figure size 432x288 with 1 Axes>"
            ]
          },
          "metadata": {
            "tags": []
          }
        },
        {
          "output_type": "stream",
          "text": [
            "100.0 0.0 0.0 0.0\n",
            "[0, 0, 0, 0, 0, 0, 0, 0, 0, 1, 0, 0, 0, 0, 0, 0, 1, 0, 0, 0, 0, 0, 0, 0, 0, 0, 0, 0, 0]\n",
            "[0, 0, 0, 0, 0, 0, 0, 0, 1, 1, 1, 0, 0, 0, 0, 1, 1, 1, 1, 1, 0, 0, 1, 1, 0, 1, 1, 0, 0]\n",
            "4\n",
            "cirq.TOFFOLI is not a supported gate\n",
            "                       ┌──┐\n",
            "(0, 0): ───X───@───X────@─────────────────\n",
            "               │        │\n",
            "(1, 0): ───X───@───X────┼X────@───X───@───\n",
            "               │   │    │     │       │\n",
            "(2, 0): ───────X───@────X─────┼───────┼───\n",
            "                              │       │\n",
            "(3, 0): ───X───@───X────@─────┼───────┼───\n",
            "               │        │     │       │\n",
            "(4, 0): ───X───@───X────┼─────@───X───┼───\n",
            "               │   │    │     │   │   │\n",
            "(5, 0): ───────X───@────X─────┼───┼───┼───\n",
            "                              │   │   │\n",
            "(6, 0): ──────────────────────X───@───X───\n",
            "                       └──┘\n",
            "Results:\n"
          ],
          "name": "stdout"
        },
        {
          "output_type": "display_data",
          "data": {
            "image/png": "[encoded data removed]",
            "text/plain": [
              "<Figure size 432x288 with 1 Axes>"
            ]
          },
          "metadata": {
            "tags": []
          }
        },
        {
          "output_type": "stream",
          "text": [
            "100.0 0.0 0.0 0.0\n",
            "[0, 0, 0, 0, 0, 0, 0, 0, 0, 1, 0, 0, 0, 0, 0, 0, 1, 0, 0, 0, 0, 0, 0, 0, 0, 0, 0, 0, 0, 0]\n",
            "[0, 0, 0, 0, 0, 0, 0, 0, 1, 1, 1, 0, 0, 0, 0, 1, 1, 1, 1, 1, 0, 0, 1, 1, 0, 1, 1, 0, 0, 0]\n",
            "4\n",
            "cirq.TOFFOLI is not a supported gate\n",
            "                       ┌──┐\n",
            "(0, 0): ───X───@───X────@─────────────────\n",
            "               │        │\n",
            "(1, 0): ───X───@───X────┼X────@───X───@───\n",
            "               │   │    │     │       │\n",
            "(2, 0): ───────X───@────X─────┼───────┼───\n",
            "                              │       │\n",
            "(3, 0): ───X───@───X────@─────┼───────┼───\n",
            "               │        │     │       │\n",
            "(4, 0): ───X───@───X────┼─────@───X───┼───\n",
            "               │   │    │     │   │   │\n",
            "(5, 0): ───────X───@────X─────┼───┼───┼───\n",
            "                              │   │   │\n",
            "(6, 0): ──────────────────────X───@───X───\n",
            "                       └──┘\n",
            "Results:\n"
          ],
          "name": "stdout"
        },
        {
          "output_type": "display_data",
          "data": {
            "image/png": "[encoded data removed]",
            "text/plain": [
              "<Figure size 432x288 with 1 Axes>"
            ]
          },
          "metadata": {
            "tags": []
          }
        },
        {
          "output_type": "stream",
          "text": [
            "100.0 0.0 0.0 0.0\n",
            "[0, 0, 0, 0, 0, 0, 0, 0, 0, 1, 0, 0, 0, 0, 0, 0, 1, 0, 0, 0, 0, 0, 0, 0, 0, 0, 0, 0, 0, 0, 0]\n",
            "[0, 0, 0, 0, 0, 0, 0, 0, 1, 1, 1, 0, 0, 0, 0, 1, 1, 1, 1, 1, 0, 0, 1, 1, 0, 1, 1, 0, 0, 0, 0]\n",
            "4\n",
            "cirq.TOFFOLI is not a supported gate\n",
            "                       ┌──┐\n",
            "(0, 0): ───X───@───X────@─────────────────\n",
            "               │        │\n",
            "(1, 0): ───X───@───X────┼X────@───X───@───\n",
            "               │   │    │     │       │\n",
            "(2, 0): ───────X───@────X─────┼───────┼───\n",
            "                              │       │\n",
            "(3, 0): ───X───@───X────@─────┼───────┼───\n",
            "               │        │     │       │\n",
            "(4, 0): ───X───@───X────┼─────@───X───┼───\n",
            "               │   │    │     │   │   │\n",
            "(5, 0): ───────X───@────X─────┼───┼───┼───\n",
            "                              │   │   │\n",
            "(6, 0): ──────────────────────X───@───X───\n",
            "                       └──┘\n",
            "Results:\n"
          ],
          "name": "stdout"
        },
        {
          "output_type": "display_data",
          "data": {
            "image/png": "[encoded data removed]",
            "text/plain": [
              "<Figure size 432x288 with 1 Axes>"
            ]
          },
          "metadata": {
            "tags": []
          }
        },
        {
          "output_type": "stream",
          "text": [
            "100.0 0.0 0.0 0.0\n",
            "[0, 0, 0, 0, 0, 0, 0, 0, 0, 1, 0, 0, 0, 0, 0, 0, 1, 0, 0, 0, 0, 0, 0, 0, 0, 0, 0, 0, 0, 0, 0, 0]\n",
            "[0, 0, 0, 0, 0, 0, 0, 0, 1, 1, 1, 0, 0, 0, 0, 1, 1, 1, 1, 1, 0, 0, 1, 1, 0, 1, 1, 0, 0, 0, 0, 0]\n",
            "4\n",
            "cirq.TOFFOLI is not a supported gate\n",
            "                       ┌──┐   ┌──┐\n",
            "(0, 0): ───X───@───X────@────────────────────\n",
            "               │        │\n",
            "(1, 0): ───X───@───X────┼X──────@────X───@───\n",
            "               │   │    │       │        │\n",
            "(2, 0): ───────X───@────X───────┼────────┼───\n",
            "                                │        │\n",
            "(3, 0): ───X───X───@────X──────@┼────────┼───\n",
            "                   │           ││        │\n",
            "(4, 0): ───X───────@────X──────┼@────X───┼───\n",
            "                   │    │      ││    │   │\n",
            "(5, 0): ───────────X────@──────X┼────┼───┼───\n",
            "                                │    │   │\n",
            "(6, 0): ────────────────────────X────@───X───\n",
            "                       └──┘   └──┘\n",
            "Results:\n"
          ],
          "name": "stdout"
        },
        {
          "output_type": "display_data",
          "data": {
            "image/png": "[encoded data removed]",
            "text/plain": [
              "<Figure size 432x288 with 1 Axes>"
            ]
          },
          "metadata": {
            "tags": []
          }
        },
        {
          "output_type": "stream",
          "text": [
            "0.0 100.0 0.0 0.0\n",
            "[0, 0, 0, 0, 0, 0, 0, 0, 0, 1, 0, 0, 0, 0, 0, 0, 1, 0, 0, 0, 0, 0, 0, 0, 0, 0, 0, 0, 0, 0, 0, 0, 0]\n",
            "[0, 0, 0, 0, 0, 0, 0, 0, 1, 1, 1, 0, 0, 0, 0, 1, 1, 1, 1, 1, 0, 0, 1, 1, 0, 1, 1, 0, 0, 0, 0, 0, 1]\n",
            "4\n",
            "cirq.TOFFOLI is not a supported gate\n",
            "                           ┌──┐\n",
            "(0, 0): ───X───X───@───X────@─────────────────\n",
            "                   │        │\n",
            "(1, 0): ───X───────@───X────┼X────@───X───@───\n",
            "                   │   │    │     │       │\n",
            "(2, 0): ───────────X───@────X─────┼───────┼───\n",
            "                                  │       │\n",
            "(3, 0): ───X───@───X───@──────────┼───────┼───\n",
            "               │       │          │       │\n",
            "(4, 0): ───X───@───X───┼──────────@───X───┼───\n",
            "               │   │   │          │   │   │\n",
            "(5, 0): ───────X───@───X──────────┼───┼───┼───\n",
            "                                  │   │   │\n",
            "(6, 0): ──────────────────────────X───@───X───\n",
            "                           └──┘\n",
            "Results:\n"
          ],
          "name": "stdout"
        },
        {
          "output_type": "display_data",
          "data": {
            "image/png": "[encoded data removed]",
            "text/plain": [
              "<Figure size 432x288 with 1 Axes>"
            ]
          },
          "metadata": {
            "tags": []
          }
        },
        {
          "output_type": "stream",
          "text": [
            "0.0 100.0 0.0 0.0\n",
            "[0, 0, 0, 0, 0, 0, 0, 0, 0, 1, 0, 0, 0, 0, 0, 0, 1, 0, 0, 0, 0, 0, 0, 0, 0, 0, 0, 0, 0, 0, 0, 0, 0, 0]\n",
            "[0, 0, 0, 0, 0, 0, 0, 0, 1, 1, 1, 0, 0, 0, 0, 1, 1, 1, 1, 1, 0, 0, 1, 1, 0, 1, 1, 0, 0, 0, 0, 0, 1, 1]\n",
            "4\n",
            "cirq.TOFFOLI is not a supported gate\n",
            "                       ┌──┐\n",
            "(0, 0): ───X───@───X────@─────────────────\n",
            "               │        │\n",
            "(1, 0): ───X───@───X────┼X────@───X───@───\n",
            "               │   │    │     │       │\n",
            "(2, 0): ───────X───@────X─────┼───────┼───\n",
            "                              │       │\n",
            "(3, 0): ───X───@───X────@─────┼───────┼───\n",
            "               │        │     │       │\n",
            "(4, 0): ───X───@───X────┼─────@───X───┼───\n",
            "               │   │    │     │   │   │\n",
            "(5, 0): ───────X───@────X─────┼───┼───┼───\n",
            "                              │   │   │\n",
            "(6, 0): ──────────────────────X───@───X───\n",
            "                       └──┘\n",
            "Results:\n"
          ],
          "name": "stdout"
        },
        {
          "output_type": "display_data",
          "data": {
            "image/png": "[encoded data removed]",
            "text/plain": [
              "<Figure size 432x288 with 1 Axes>"
            ]
          },
          "metadata": {
            "tags": []
          }
        },
        {
          "output_type": "stream",
          "text": [
            "100.0 0.0 0.0 0.0\n",
            "[0, 0, 0, 0, 0, 0, 0, 0, 0, 1, 0, 0, 0, 0, 0, 0, 1, 0, 0, 0, 0, 0, 0, 0, 0, 0, 0, 0, 0, 0, 0, 0, 0, 0, 0]\n",
            "[0, 0, 0, 0, 0, 0, 0, 0, 1, 1, 1, 0, 0, 0, 0, 1, 1, 1, 1, 1, 0, 0, 1, 1, 0, 1, 1, 0, 0, 0, 0, 0, 1, 1, 0]\n",
            "5\n",
            "cirq.TOFFOLI is not a supported gate\n",
            "                       ┌──┐\n",
            "(0, 0): ───X───@───X────@─────────────────\n",
            "               │        │\n",
            "(1, 0): ───X───@───X────┼X────@───X───@───\n",
            "               │   │    │     │       │\n",
            "(2, 0): ───────X───@────X─────┼───────┼───\n",
            "                              │       │\n",
            "(3, 0): ───X───@───X────@─────┼───────┼───\n",
            "               │        │     │       │\n",
            "(4, 0): ───X───@───X────┼─────@───X───┼───\n",
            "               │   │    │     │   │   │\n",
            "(5, 0): ───────X───@────X─────┼───┼───┼───\n",
            "                              │   │   │\n",
            "(6, 0): ──────────────────────X───@───X───\n",
            "                       └──┘\n",
            "Results:\n"
          ],
          "name": "stdout"
        },
        {
          "output_type": "display_data",
          "data": {
            "image/png": "[encoded data removed]",
            "text/plain": [
              "<Figure size 432x288 with 1 Axes>"
            ]
          },
          "metadata": {
            "tags": []
          }
        },
        {
          "output_type": "stream",
          "text": [
            "100.0 0.0 0.0 0.0\n",
            "[0, 0, 0, 0, 0, 0, 0, 0, 0, 1, 0, 0, 0, 0, 0, 0, 1, 0, 0, 0, 0, 0, 0, 0, 0, 0, 0, 0, 0, 0, 0, 0, 0, 0, 0, 0]\n",
            "[0, 0, 0, 0, 0, 0, 0, 0, 1, 1, 1, 0, 0, 0, 0, 1, 1, 1, 1, 1, 0, 0, 1, 1, 0, 1, 1, 0, 0, 0, 0, 0, 1, 1, 0, 0]\n",
            "5\n",
            "cirq.TOFFOLI is not a supported gate\n",
            "                       ┌──┐\n",
            "(0, 0): ───X───@───X────@─────────────────\n",
            "               │        │\n",
            "(1, 0): ───X───@───X────┼X────@───X───@───\n",
            "               │   │    │     │       │\n",
            "(2, 0): ───────X───@────X─────┼───────┼───\n",
            "                              │       │\n",
            "(3, 0): ───X───@───X────@─────┼───────┼───\n",
            "               │        │     │       │\n",
            "(4, 0): ───X───@───X────┼─────@───X───┼───\n",
            "               │   │    │     │   │   │\n",
            "(5, 0): ───────X───@────X─────┼───┼───┼───\n",
            "                              │   │   │\n",
            "(6, 0): ──────────────────────X───@───X───\n",
            "                       └──┘\n",
            "Results:\n"
          ],
          "name": "stdout"
        },
        {
          "output_type": "display_data",
          "data": {
            "image/png": "[encoded data removed]",
            "text/plain": [
              "<Figure size 432x288 with 1 Axes>"
            ]
          },
          "metadata": {
            "tags": []
          }
        },
        {
          "output_type": "stream",
          "text": [
            "100.0 0.0 0.0 0.0\n",
            "[0, 0, 0, 0, 0, 0, 0, 0, 0, 1, 0, 0, 0, 0, 0, 0, 1, 0, 0, 0, 0, 0, 0, 0, 0, 0, 0, 0, 0, 0, 0, 0, 0, 0, 0, 0, 0]\n",
            "[0, 0, 0, 0, 0, 0, 0, 0, 1, 1, 1, 0, 0, 0, 0, 1, 1, 1, 1, 1, 0, 0, 1, 1, 0, 1, 1, 0, 0, 0, 0, 0, 1, 1, 0, 0, 0]\n",
            "5\n",
            "cirq.TOFFOLI is not a supported gate\n",
            "                       ┌──┐\n",
            "(0, 0): ───X───@───X────@─────────────────\n",
            "               │        │\n",
            "(1, 0): ───X───@───X────┼X────@───X───@───\n",
            "               │   │    │     │       │\n",
            "(2, 0): ───────X───@────X─────┼───────┼───\n",
            "                              │       │\n",
            "(3, 0): ───X───@───X────@─────┼───────┼───\n",
            "               │        │     │       │\n",
            "(4, 0): ───X───@───X────┼─────@───X───┼───\n",
            "               │   │    │     │   │   │\n",
            "(5, 0): ───────X───@────X─────┼───┼───┼───\n",
            "                              │   │   │\n",
            "(6, 0): ──────────────────────X───@───X───\n",
            "                       └──┘\n",
            "Results:\n"
          ],
          "name": "stdout"
        },
        {
          "output_type": "display_data",
          "data": {
            "image/png": "[encoded data removed]",
            "text/plain": [
              "<Figure size 432x288 with 1 Axes>"
            ]
          },
          "metadata": {
            "tags": []
          }
        },
        {
          "output_type": "stream",
          "text": [
            "100.0 0.0 0.0 0.0\n",
            "[0, 0, 0, 0, 0, 0, 0, 0, 0, 1, 0, 0, 0, 0, 0, 0, 1, 0, 0, 0, 0, 0, 0, 0, 0, 0, 0, 0, 0, 0, 0, 0, 0, 0, 0, 0, 0, 0]\n",
            "[0, 0, 0, 0, 0, 0, 0, 0, 1, 1, 1, 0, 0, 0, 0, 1, 1, 1, 1, 1, 0, 0, 1, 1, 0, 1, 1, 0, 0, 0, 0, 0, 1, 1, 0, 0, 0, 0]\n",
            "5\n",
            "cirq.TOFFOLI is not a supported gate\n",
            "                       ┌──┐\n",
            "(0, 0): ───X───@───X────@─────────────────\n",
            "               │        │\n",
            "(1, 0): ───X───@───X────┼X────@───X───@───\n",
            "               │   │    │     │       │\n",
            "(2, 0): ───────X───@────X─────┼───────┼───\n",
            "                              │       │\n",
            "(3, 0): ───X───@───X────@─────┼───────┼───\n",
            "               │        │     │       │\n",
            "(4, 0): ───X───@───X────┼─────@───X───┼───\n",
            "               │   │    │     │   │   │\n",
            "(5, 0): ───────X───@────X─────┼───┼───┼───\n",
            "                              │   │   │\n",
            "(6, 0): ──────────────────────X───@───X───\n",
            "                       └──┘\n",
            "Results:\n"
          ],
          "name": "stdout"
        },
        {
          "output_type": "display_data",
          "data": {
            "image/png": "[encoded data removed]",
            "text/plain": [
              "<Figure size 432x288 with 1 Axes>"
            ]
          },
          "metadata": {
            "tags": []
          }
        },
        {
          "output_type": "stream",
          "text": [
            "100.0 0.0 0.0 0.0\n",
            "[0, 0, 0, 0, 0, 0, 0, 0, 0, 1, 0, 0, 0, 0, 0, 0, 1, 0, 0, 0, 0, 0, 0, 0, 0, 0, 0, 0, 0, 0, 0, 0, 0, 0, 0, 0, 0, 0, 0]\n",
            "[0, 0, 0, 0, 0, 0, 0, 0, 1, 1, 1, 0, 0, 0, 0, 1, 1, 1, 1, 1, 0, 0, 1, 1, 0, 1, 1, 0, 0, 0, 0, 0, 1, 1, 0, 0, 0, 0, 0]\n",
            "5\n",
            "cirq.TOFFOLI is not a supported gate\n",
            "                       ┌──┐\n",
            "(0, 0): ───X───@───X────@─────────────────\n",
            "               │        │\n",
            "(1, 0): ───X───@───X────┼X────@───X───@───\n",
            "               │   │    │     │       │\n",
            "(2, 0): ───────X───@────X─────┼───────┼───\n",
            "                              │       │\n",
            "(3, 0): ───X───@───X────@─────┼───────┼───\n",
            "               │        │     │       │\n",
            "(4, 0): ───X───@───X────┼─────@───X───┼───\n",
            "               │   │    │     │   │   │\n",
            "(5, 0): ───────X───@────X─────┼───┼───┼───\n",
            "                              │   │   │\n",
            "(6, 0): ──────────────────────X───@───X───\n",
            "                       └──┘\n",
            "Results:\n"
          ],
          "name": "stdout"
        },
        {
          "output_type": "display_data",
          "data": {
            "image/png": "[encoded data removed]",
            "text/plain": [
              "<Figure size 432x288 with 1 Axes>"
            ]
          },
          "metadata": {
            "tags": []
          }
        },
        {
          "output_type": "stream",
          "text": [
            "100.0 0.0 0.0 0.0\n",
            "[0, 0, 0, 0, 0, 0, 0, 0, 0, 1, 0, 0, 0, 0, 0, 0, 1, 0, 0, 0, 0, 0, 0, 0, 0, 0, 0, 0, 0, 0, 0, 0, 0, 0, 0, 0, 0, 0, 0, 0]\n",
            "[0, 0, 0, 0, 0, 0, 0, 0, 1, 1, 1, 0, 0, 0, 0, 1, 1, 1, 1, 1, 0, 0, 1, 1, 0, 1, 1, 0, 0, 0, 0, 0, 1, 1, 0, 0, 0, 0, 0, 0]\n",
            "5\n",
            "cirq.TOFFOLI is not a supported gate\n",
            "                       ┌──┐\n",
            "(0, 0): ───X───@───X────@─────────────────\n",
            "               │        │\n",
            "(1, 0): ───X───@───X────┼X────@───X───@───\n",
            "               │   │    │     │       │\n",
            "(2, 0): ───────X───@────X─────┼───────┼───\n",
            "                              │       │\n",
            "(3, 0): ───X───@───X────@─────┼───────┼───\n",
            "               │        │     │       │\n",
            "(4, 0): ───X───@───X────┼─────@───X───┼───\n",
            "               │   │    │     │   │   │\n",
            "(5, 0): ───────X───@────X─────┼───┼───┼───\n",
            "                              │   │   │\n",
            "(6, 0): ──────────────────────X───@───X───\n",
            "                       └──┘\n",
            "Results:\n"
          ],
          "name": "stdout"
        },
        {
          "output_type": "display_data",
          "data": {
            "image/png": "[encoded data removed]",
            "text/plain": [
              "<Figure size 432x288 with 1 Axes>"
            ]
          },
          "metadata": {
            "tags": []
          }
        },
        {
          "output_type": "stream",
          "text": [
            "100.0 0.0 0.0 0.0\n",
            "[0, 0, 0, 0, 0, 0, 0, 0, 0, 1, 0, 0, 0, 0, 0, 0, 1, 0, 0, 0, 0, 0, 0, 0, 0, 0, 0, 0, 0, 0, 0, 0, 0, 0, 0, 0, 0, 0, 0, 0, 0]\n",
            "[0, 0, 0, 0, 0, 0, 0, 0, 1, 1, 1, 0, 0, 0, 0, 1, 1, 1, 1, 1, 0, 0, 1, 1, 0, 1, 1, 0, 0, 0, 0, 0, 1, 1, 0, 0, 0, 0, 0, 0, 0]\n",
            "5\n",
            "cirq.TOFFOLI is not a supported gate\n",
            "                       ┌──┐\n",
            "(0, 0): ───X───@───X────@─────────────────\n",
            "               │        │\n",
            "(1, 0): ───X───@───X────┼X────@───X───@───\n",
            "               │   │    │     │       │\n",
            "(2, 0): ───────X───@────X─────┼───────┼───\n",
            "                              │       │\n",
            "(3, 0): ───X───@───X────@─────┼───────┼───\n",
            "               │        │     │       │\n",
            "(4, 0): ───X───@───X────┼─────@───X───┼───\n",
            "               │   │    │     │   │   │\n",
            "(5, 0): ───────X───@────X─────┼───┼───┼───\n",
            "                              │   │   │\n",
            "(6, 0): ──────────────────────X───@───X───\n",
            "                       └──┘\n",
            "Results:\n"
          ],
          "name": "stdout"
        },
        {
          "output_type": "display_data",
          "data": {
            "image/png": "[encoded data removed]",
            "text/plain": [
              "<Figure size 432x288 with 1 Axes>"
            ]
          },
          "metadata": {
            "tags": []
          }
        },
        {
          "output_type": "stream",
          "text": [
            "100.0 0.0 0.0 0.0\n",
            "[0, 0, 0, 0, 0, 0, 0, 0, 0, 1, 0, 0, 0, 0, 0, 0, 1, 0, 0, 0, 0, 0, 0, 0, 0, 0, 0, 0, 0, 0, 0, 0, 0, 0, 0, 0, 0, 0, 0, 0, 0, 0]\n",
            "[0, 0, 0, 0, 0, 0, 0, 0, 1, 1, 1, 0, 0, 0, 0, 1, 1, 1, 1, 1, 0, 0, 1, 1, 0, 1, 1, 0, 0, 0, 0, 0, 1, 1, 0, 0, 0, 0, 0, 0, 0, 0]\n"
          ],
          "name": "stdout"
        }
      ]
    },
    {
      "cell_type": "markdown",
      "metadata": {
        "id": "KG6wElxLy7uf",
        "colab_type": "text"
      },
      "source": [
        "we save in two list the result of dilation and erosion and we reshape in a matrix of (6x6)"
      ]
    },
    {
      "cell_type": "code",
      "metadata": {
        "id": "Ocbgt6p8QZW1",
        "colab_type": "code",
        "outputId": "d2ddda41-f7fb-4a45-c3a7-c9b5916d1d0d",
        "colab": {
          "base_uri": "https://localhost:8080/",
          "height": 295
        }
      },
      "source": [
        "x = dilatacion\n",
        "x = np.array(x).reshape(6,7)\n",
        "x = np.delete(x, [6], axis=1)\n",
        "print(\"dilatacion\")\n",
        "print()\n",
        "print(x)\n",
        "\n",
        "\n",
        "y = erosion\n",
        "y = np.array(y).reshape(6,7)\n",
        "y = np.delete(y, [6], axis=1)\n",
        "print(\"erosion\")\n",
        "print()\n",
        "print(y)\n",
        "\n",
        "\n"
      ],
      "execution_count": 0,
      "outputs": [
        {
          "output_type": "stream",
          "text": [
            "dilatacion\n",
            "\n",
            "[[0 0 0 0 0 0]\n",
            " [0 1 1 1 0 0]\n",
            " [0 1 1 1 1 1]\n",
            " [0 1 1 0 1 1]\n",
            " [0 0 0 0 1 1]\n",
            " [0 0 0 0 0 0]]\n",
            "erosion\n",
            "\n",
            "[[0 0 0 0 0 0]\n",
            " [0 0 1 0 0 0]\n",
            " [0 0 1 0 0 0]\n",
            " [0 0 0 0 0 0]\n",
            " [0 0 0 0 0 0]\n",
            " [0 0 0 0 0 0]]\n"
          ],
          "name": "stdout"
        }
      ]
    },
    {
      "cell_type": "markdown",
      "metadata": {
        "id": "Jt-hSqd8zIXI",
        "colab_type": "text"
      },
      "source": [
        "We show the input as the erosion and dilation results  in images."
      ]
    },
    {
      "cell_type": "code",
      "metadata": {
        "id": "vzd9upO4dmXH",
        "colab_type": "code",
        "outputId": "db309828-85c0-4453-ac87-dc3dae47aefe",
        "colab": {
          "base_uri": "https://localhost:8080/",
          "height": 809
        }
      },
      "source": [
        "from pylab import *\n",
        "figure(1)\n",
        "title(\"Imagen de entrada\")\n",
        "imagen_entrada_2 = np.delete(imagen_entrada, [0,7], axis=1)\n",
        "\n",
        "\n",
        "imshow(imagen_entrada_2, interpolation='nearest')\n",
        "grid(True)\n",
        "\n",
        "figure(2)\n",
        "title(\"Imagen dilatada\")\n",
        "imshow(x, interpolation='nearest')\n",
        "grid(True)\n",
        "\n",
        "\n",
        "figure(3)\n",
        "title(\"Imagen erosionada\")\n",
        "imshow(y, interpolation='nearest')\n",
        "grid(True)\n",
        "\n"
      ],
      "execution_count": 0,
      "outputs": [
        {
          "output_type": "display_data",
          "data": {
            "image/png": "[encoded data removed]",
            "text/plain": [
              "<Figure size 432x288 with 1 Axes>"
            ]
          },
          "metadata": {
            "tags": []
          }
        },
        {
          "output_type": "display_data",
          "data": {
            "image/png": "[encoded data removed]",
            "text/plain": [
              "<Figure size 432x288 with 1 Axes>"
            ]
          },
          "metadata": {
            "tags": []
          }
        },
        {
          "output_type": "display_data",
          "data": {
            "image/png": "[encoded data removed]",
            "text/plain": [
              "<Figure size 432x288 with 1 Axes>"
            ]
          },
          "metadata": {
            "tags": []
          }
        }
      ]
    }
  ]
}